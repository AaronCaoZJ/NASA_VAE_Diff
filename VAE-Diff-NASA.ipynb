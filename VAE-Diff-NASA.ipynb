{
 "cells": [
  {
   "cell_type": "code",
   "execution_count": 5,
   "metadata": {},
   "outputs": [],
   "source": [
    "import numpy as np\n",
    "import random\n",
    "import math\n",
    "import os\n",
    "import scipy.io\n",
    "import matplotlib.pyplot as plt\n",
    "import torch\n",
    "import torch.nn as nn\n",
    "import torch.nn.functional as F\n",
    "# import torchvision\n",
    "%matplotlib inline\n",
    "\n",
    "from tqdm.notebook import tqdm\n",
    "from math import sqrt\n",
    "from datetime import datetime\n",
    "from sklearn.model_selection import train_test_split\n",
    "from sklearn.metrics import mean_absolute_error\n",
    "from sklearn.metrics import mean_squared_error"
   ]
  },
  {
   "cell_type": "markdown",
   "metadata": {},
   "source": [
    "# 1. load data"
   ]
  },
  {
   "cell_type": "code",
   "execution_count": null,
   "metadata": {},
   "outputs": [],
   "source": [
    "# 转换时间格式，将字符串转换成 datatime 格式\n",
    "def convert_to_time(time):\n",
    "    year, month, day, hour, minute, second = int(time[0]), int(time[1]), int(time[2]), int(time[3]), int(time[4]), int(time[5])\n",
    "    return datetime(year=year, month=month, day=day, hour=hour, minute=minute, second=second)\n",
    "\n",
    "\n",
    "# 加载 mat 文件\n",
    "def loadMat(matfile):\n",
    "    data = scipy.io.loadmat(matfile)\n",
    "    filename = matfile.split('/')[-1].split('.')[0]\n",
    "\n",
    "    col = data[filename]\n",
    "    col = col[0][0][0][0]\n",
    "    size = col.shape[0]\n",
    "\n",
    "    data = []\n",
    "    for i in range(size):\n",
    "        k = list(col[i][3][0].dtype.fields.keys())\n",
    "        d1, d2 = {}, {}\n",
    "        if str(col[i][0][0]) != 'impedance':\n",
    "            for j in range(len(k)):\n",
    "                t = col[i][3][0][0][j][0]\n",
    "                l = [t[m] for m in range(len(t))]\n",
    "                d2[k[j]] = l\n",
    "        d1['type'], d1['temp'], d1['time'], d1['data'] = str(col[i][0][0]), int(col[i][1][0]), str(convert_to_time(col[i][2][0])), d2\n",
    "        data.append(d1)\n",
    "\n",
    "    return data\n",
    "\n",
    "\n",
    "# 提取锂电池容量\n",
    "def getBatteryData(Battery):\n",
    "    cycle, capacity, bat_volt, bat_curr, temp, env_temp, time = [], [], [], [], [], [], []\n",
    "    i = 1\n",
    "    for Bat in Battery:\n",
    "        if Bat['type'] == 'discharge':\n",
    "            capacity.append(Bat['data']['Capacity'][0])\n",
    "            bat_volt.append(Bat['data']['Voltage_measured'][0])\n",
    "            bat_curr.append(Bat['data']['Current_measured'][0])\n",
    "            temp.append(Bat['data']['Temperature_measured'][0])\n",
    "            # load_volt.append(Bat['data']['Voltage_charge'][0])\n",
    "            # load_curr.append(Bat['data']['Current_charge'][0])\n",
    "            time.append(Bat['time'])\n",
    "            env_temp.append(Bat['temp'])\n",
    "            cycle.append(i)\n",
    "            i += 1\n",
    "    return [cycle, capacity, bat_volt, bat_curr, temp, env_temp, time]\n",
    "\n",
    "\n",
    "# 获取锂电池充电或放电时的测试数据\n",
    "def getBatteryValues(Battery, Type='charge'):\n",
    "    data=[]\n",
    "    for Bat in Battery:\n",
    "        if Bat['type'] == Type:\n",
    "            data.append(Bat['data'])\n",
    "    return data"
   ]
  },
  {
   "cell_type": "markdown",
   "metadata": {},
   "source": [
    "## 1.1 Extract raw data"
   ]
  },
  {
   "cell_type": "code",
   "execution_count": null,
   "metadata": {},
   "outputs": [
    {
     "name": "stdout",
     "output_type": "stream",
     "text": [
      "Load Dataset B0005.mat ...\n",
      "Load Dataset B0006.mat ...\n",
      "Load Dataset B0007.mat ...\n",
      "Load Dataset B0018.mat ...\n"
     ]
    }
   ],
   "source": [
    "Battery_list = ['B0005', 'B0006', 'B0007', 'B0018']\n",
    "dir_path = r'E:/DATASETS/NASA_Prognostics_Data_Repository/MIX_Battery_Data_Set/'\n",
    "\n",
    "Battery = {}\n",
    "for name in Battery_list:\n",
    "    print('Load Dataset ' + name + '.mat ...')\n",
    "    path = dir_path + name + '.mat'\n",
    "    data = loadMat(path)\n",
    "    Battery[name] = getBatteryData(data)              # 放电时的容量数据"
   ]
  },
  {
   "cell_type": "markdown",
   "metadata": {},
   "source": [
    "# 2. data processing and model\n",
    "\n",
    "## 2.1 data processing for model training"
   ]
  },
  {
   "cell_type": "code",
   "execution_count": null,
   "metadata": {},
   "outputs": [],
   "source": [
    "def build_instances(sequence, window_size):\n",
    "    #sequence: list of capacity\n",
    "    x, y = [],[]\n",
    "    for i in range(len(sequence) - window_size):\n",
    "        features = sequence[i:i+window_size]\n",
    "        target = sequence[i+window_size]\n",
    "\n",
    "        x.append(features)\n",
    "        y.append(target)\n",
    "        \n",
    "    return np.array(x).astype(np.float32), np.array(y).astype(np.float32)\n",
    "\n",
    "\n",
    "# leave-one-out evaluation: one battery is sampled randomly; the remainder are used for training.\n",
    "def get_train_valid_test(data_dict, test_name='B0018', feature_size=8, valid_ratio=0.2, random_state=42):\n",
    "    \n",
    "    # 构建训练集（去掉测试电池）\n",
    "    train_x, train_y = None, None\n",
    "    for k, v in data_dict.items():\n",
    "        if k != test_name:\n",
    "            data_x, data_y = build_instances(v[1], feature_size)\n",
    "            if train_x is None:\n",
    "                train_x, train_y = data_x, data_y\n",
    "            else:\n",
    "                train_x, train_y = np.r_[train_x, data_x], np.r_[train_y, data_y]\n",
    "\n",
    "    # 划分验证集\n",
    "    train_x, valid_x, train_y, valid_y = train_test_split(train_x, train_y, test_size=valid_ratio, random_state=random_state)\n",
    "    \n",
    "    # 构建测试集\n",
    "    test_sequence = data_dict[test_name][1]\n",
    "    test_x, test_y = build_instances(test_sequence, feature_size)\n",
    "    return train_x, train_y, valid_x, valid_y, test_x, test_y"
   ]
  },
  {
   "cell_type": "code",
   "execution_count": null,
   "metadata": {},
   "outputs": [
    {
     "name": "stdout",
     "output_type": "stream",
     "text": [
      "Train set: (364, 16), (364,)\n",
      "Validation set: (92, 16), (92,)\n",
      "Test set: (116, 16), (116,)\n"
     ]
    }
   ],
   "source": [
    "# train_x, train_y, valid_x, valid_y, test_x, test_y = get_train_valid_test(Battery, test_name='B0018', feature_size=16)\n",
    "# print(f\"Train set: {train_x.shape}, {train_y.shape}\")\n",
    "# print(f\"Validation set: {valid_x.shape}, {valid_y.shape}\")\n",
    "# print(f\"Test set: {test_x.shape}, {test_y.shape}\")"
   ]
  },
  {
   "cell_type": "markdown",
   "metadata": {},
   "source": [
    "# 2.2 build net"
   ]
  },
  {
   "cell_type": "code",
   "execution_count": null,
   "metadata": {},
   "outputs": [],
   "source": [
    "import torch\n",
    "import torch.nn as nn\n",
    "import torch.nn.functional as F\n",
    "\n",
    "class MultivariateVAE(nn.Module):\n",
    "    def __init__(self, input_dim, hidden_dim, latent_dim):\n",
    "        super(MultivariateVAE, self).__init__()\n",
    "        self.fc1 = nn.Linear(input_dim, hidden_dim)\n",
    "        self.fc2 = nn.Linear(hidden_dim, hidden_dim)\n",
    "        self.fc_mu = nn.Linear(hidden_dim, latent_dim)\n",
    "        self.fc_logvar = nn.Linear(hidden_dim, latent_dim)\n",
    "        self.fc3 = nn.Linear(latent_dim, hidden_dim)\n",
    "        self.fc4 = nn.Linear(hidden_dim, hidden_dim)\n",
    "        self.fc5 = nn.Linear(hidden_dim, input_dim)\n",
    "\n",
    "    def encode(self, x):\n",
    "        h1 = F.relu(self.fc1(x))\n",
    "        h2 = F.relu(self.fc2(h1))\n",
    "        return self.fc_mu(h2), self.fc_logvar(h2)\n",
    "\n",
    "    def reparameterize(self, mu, logvar):\n",
    "        std = torch.exp(0.5 * logvar)\n",
    "        eps = torch.randn_like(std)\n",
    "        return mu + eps * std\n",
    "\n",
    "    def decode(self, z):\n",
    "        h3 = F.relu(self.fc3(z))\n",
    "        h4 = F.relu(self.fc4(h3))\n",
    "        return self.fc5(h4)\n",
    "\n",
    "    def forward(self, x):\n",
    "        mu, logvar = self.encode(x)\n",
    "        z = self.reparameterize(mu, logvar)\n",
    "        return self.decode(z), mu, logvar\n",
    "\n",
    "    def loss_function(self, recon_x, x, mu, logvar):\n",
    "        # MSE loss适合多变量回归\n",
    "        MSE = F.mse_loss(recon_x, x, reduction='sum')\n",
    "        KLD = -0.5 * torch.sum(1 + logvar - mu.pow(2) - logvar.exp())\n",
    "        return MSE + KLD"
   ]
  },
  {
   "cell_type": "markdown",
   "metadata": {},
   "source": [
    "## 2.3 train for model"
   ]
  },
  {
   "cell_type": "code",
   "execution_count": null,
   "metadata": {},
   "outputs": [],
   "source": []
  },
  {
   "cell_type": "markdown",
   "metadata": {},
   "source": [
    "## 2.4 setting and training for overall performance"
   ]
  },
  {
   "cell_type": "code",
   "execution_count": null,
   "metadata": {},
   "outputs": [],
   "source": [
    "feature_size = 16\n",
    "epochs = 500\n",
    "lr = 0.001           # learning rate\n",
    "hidden_dim = 128\n",
    "num_layers = 1\n",
    "weight_decay = 0.0\n",
    "mode = 'LSTM'        # RNN, LSTM, GRU\n",
    "Rated_Capacity = 2.0\n",
    "metric = 'rmse'\n",
    "device = 'cpu'"
   ]
  },
  {
   "cell_type": "markdown",
   "metadata": {},
   "source": [
    "## 2.5 prediction for figures\n",
    "\n",
    "**select the seed of the best performance**"
   ]
  },
  {
   "cell_type": "code",
   "execution_count": null,
   "metadata": {},
   "outputs": [],
   "source": []
  },
  {
   "cell_type": "code",
   "execution_count": null,
   "metadata": {},
   "outputs": [],
   "source": [
    "fig,ax = plt.subplots(2, 2, figsize=(24, 18))\n",
    "\n",
    "for i in range(2):\n",
    "    for j in range(2):\n",
    "        t = i + j\n",
    "        battery_name = Battery_list[t]\n",
    "        test_data = Battery[battery_name][1]\n",
    "        predict_data = prediction_list[t]\n",
    "        x = [t for t in range(len(test_data))]\n",
    "        threshold = [Rated_Capacity*0.7] * len(test_data)\n",
    "        ax[i][j].plot(x, test_data, 'c', label='test data')\n",
    "        ax[i][j].plot(x, predict_data, 'b', label='predicted data')\n",
    "        ax[i][j].plot(x, threshold, 'black', ls=':', label='stop line')\n",
    "        ax[i][j].legend()\n",
    "        ax[i][j].set_xlabel('Discharge cycles', fontsize=15)\n",
    "        ax[i][j].set_ylabel('Capacity (Ah)', fontsize=15)\n",
    "        ax[i][j].set_title('test v.s. prediction of battery ' + battery_name, fontsize=20)\n",
    "plt.show()"
   ]
  },
  {
   "cell_type": "code",
   "execution_count": null,
   "metadata": {},
   "outputs": [],
   "source": []
  }
 ],
 "metadata": {
  "anaconda-cloud": {},
  "kernelspec": {
   "display_name": "tslib",
   "language": "python",
   "name": "python3"
  },
  "language_info": {
   "codemirror_mode": {
    "name": "ipython",
    "version": 3
   },
   "file_extension": ".py",
   "mimetype": "text/x-python",
   "name": "python",
   "nbconvert_exporter": "python",
   "pygments_lexer": "ipython3",
   "version": "3.8.20"
  }
 },
 "nbformat": 4,
 "nbformat_minor": 1
}
